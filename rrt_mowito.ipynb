{
 "cells": [
  {
   "cell_type": "code",
   "execution_count": 1,
   "metadata": {},
   "outputs": [],
   "source": [
    "import numpy as np\n",
    "import matplotlib.pyplot as plt\n",
    "import math"
   ]
  },
  {
   "attachments": {},
   "cell_type": "markdown",
   "metadata": {},
   "source": [
    "### Helper functions"
   ]
  },
  {
   "cell_type": "code",
   "execution_count": 2,
   "metadata": {},
   "outputs": [],
   "source": [
    "def get_sign(ep1,ep2,c):\n",
    "        vec1 = (ep1[1]-c[1]+0.000001)/(ep1[0]-c[0]+0.000001)\n",
    "        vec2 = (ep2[1]-c[1]+0.000001)/(ep2[0]-c[0]+0.000001)\n",
    "        return np.sign(vec1*vec2)\n",
    "\n",
    "def distp2p(p1,p2):\n",
    "    return np.sqrt((p1[0]-p2[0])**2+(p1[1]-p2[1])**2)\n",
    "\n",
    "def line(p1,p2):\n",
    "    if (p1[0]-p2[0])==0:\n",
    "        m = 100000\n",
    "        c = 100000\n",
    "    else:\n",
    "        m = (p1[1]-p2[1])/(p1[0]-p2[0])\n",
    "        c = (p1[0]*p2[1]-p2[0]*p1[1])/(p1[0]-p2[0])\n",
    "    return m,c\n",
    "\n",
    "def distp2l(q,p1,p2):\n",
    "    m,c = line(p1,p2)\n",
    "    if m ==100000:\n",
    "        x2 = p1[0]\n",
    "        y2 = q[1]\n",
    "    else:\n",
    "        x2 = (m*q[1]-m*c+q[0])/(1+(m**2))\n",
    "        y2 = ((m**2)*q[1]+m*q[0]+c)/(1+(m**2))\n",
    "    q2 = np.array([x2,y2])\n",
    "    return distp2p(q,q2)\n",
    "\n",
    "def if_intersects(start,end,center,radius):\n",
    "    if get_sign(end,center,start) and get_sign(start,center,end):\n",
    "        if distp2l(center,start,end)<radius+0.01:\n",
    "            return True\n",
    "        else:\n",
    "            return False\n",
    "    else:\n",
    "        return False"
   ]
  },
  {
   "attachments": {},
   "cell_type": "markdown",
   "metadata": {},
   "source": [
    "### Main Classes for RRT and RRT*"
   ]
  },
  {
   "cell_type": "code",
   "execution_count": 24,
   "metadata": {},
   "outputs": [],
   "source": [
    "class Node:\n",
    "    def __init__(self, x, y):\n",
    "        self.x = x\n",
    "        self.y = y\n",
    "        self.parent = None\n",
    "        self.cost = 0.0\n",
    "\n",
    "class Obstacle:\n",
    "    def __init__(self, x, y, radius):\n",
    "        self.x = x\n",
    "        self.y = y\n",
    "        self.radius = radius\n",
    "\n",
    "    def contains(self, node):\n",
    "        return (node.x - self.x)**2 + (node.y - self.y)**2 <= self.radius**2\n",
    "\n",
    "class RRT:\n",
    "    def __init__(self, start, goal, obstacles, field_width, field_height, max_dist=0.1, max_iters=1000):\n",
    "        self.start = Node(*start)\n",
    "        self.goal = Node(*goal)\n",
    "        # print(self.start.parent)\n",
    "        self.obstacles = obstacles\n",
    "        self.max_dist = max_dist\n",
    "        self.max_iters = max_iters\n",
    "        self.nodes = [self.start]\n",
    "        self.field_width = field_width\n",
    "        self.field_height = field_height\n",
    "\n",
    "    def plan(self):\n",
    "        for i in range(self.max_iters):\n",
    "            q_rand = self.get_random_node()\n",
    "            q_near = self.get_nearest_node(q_rand)\n",
    "            q_new = self.steer(q_near, q_rand) #node to be added\n",
    "            if not self.is_valid_node(q_new,q_near):\n",
    "                continue\n",
    "            self.nodes.append(q_new)\n",
    "            q_new.parent = q_near\n",
    "            # print(q_new.x,q_new.y)\n",
    "            if self.is_goal_reached(q_new):\n",
    "                print(True)\n",
    "                return self.get_path(q_new)\n",
    "        return None\n",
    "\n",
    "    def get_random_node(self):\n",
    "        if np.random.rand() < 0.05:\n",
    "            # print('goal node is chosen')\n",
    "            return Node(self.goal.x, self.goal.y)\n",
    "        x = np.random.uniform(0, self.field_width)\n",
    "        y = np.random.uniform(0, self.field_height)\n",
    "        return Node(x, y)\n",
    "\n",
    "    def get_nearest_node(self, node):\n",
    "        distances = [np.sqrt((n.x - node.x)**2 + (n.y - node.y)**2) for n in self.nodes]\n",
    "        return self.nodes[np.argmin(distances)]\n",
    "\n",
    "    def steer(self, from_node, to_node):\n",
    "        dist = np.sqrt((from_node.x - to_node.x)**2 + (from_node.y - to_node.y)**2)\n",
    "        if dist < self.max_dist:\n",
    "            return Node(to_node.x, to_node.y)\n",
    "        angle = np.arctan2(to_node.y - from_node.y, to_node.x - from_node.x)\n",
    "        x = from_node.x + self.max_dist * np.cos(angle)\n",
    "        y = from_node.y + self.max_dist * np.sin(angle)\n",
    "        return Node(x, y)\n",
    "\n",
    "    def is_valid_node(self, node,from_node):\n",
    "        for obs in self.obstacles:\n",
    "            if obs.contains(node):\n",
    "                return False\n",
    "            if if_intersects([from_node.x,from_node.y],[node.x,node.y],[obs.x,obs.y],obs.radius):\n",
    "                return False\n",
    "        return True\n",
    "\n",
    "    def is_goal_reached(self, node):\n",
    "        return self.goal.x == node.x and self.goal.y == node.y\n",
    "\n",
    "    def get_path(self, node):\n",
    "        path = [node]\n",
    "        while node.parent is not None:\n",
    "            node = node.parent\n",
    "            path.append(node)\n",
    "        return path[::-1]\n",
    "\n",
    "class RRT_STAR:\n",
    "    def __init__(self, start, goal, obstacles, field_width, field_height, max_dist=0.1, max_iters=1000):\n",
    "        self.start = Node(*start)\n",
    "        self.goal = Node(*goal)\n",
    "        # print(self.start.parent)\n",
    "        self.obstacles = obstacles\n",
    "        self.max_dist = max_dist\n",
    "        self.max_iters = max_iters\n",
    "        self.nodes = [self.start]\n",
    "        self.field_width = field_width\n",
    "        self.field_height = field_height\n",
    "        self.neighbour_radius = max_dist * 2.0\n",
    "\n",
    "    def plan(self):\n",
    "        for i in range(self.max_iters):\n",
    "            q_rand = self.get_random_node()\n",
    "            q_near = self.get_nearest_node(q_rand)\n",
    "            q_new = self.steer(q_near, q_rand) #node to be added\n",
    "            if not self.is_valid_node(q_new,q_near):\n",
    "                continue\n",
    "            q_new = self.choose_parent(q_new, q_near)\n",
    "            self.nodes.append(q_new)\n",
    "            self.rewire(q_new)\n",
    "            # print(q_new.x,q_new.y)\n",
    "            if self.is_goal_reached(q_new):\n",
    "                print(True)\n",
    "                return self.get_path(q_new)\n",
    "        return None\n",
    "\n",
    "    def choose_parent(self, q_new, q_near):\n",
    "        near_nodes = self.get_near_nodes(q_new)\n",
    "        costs = [self.get_cost(n, q_new) for n in near_nodes if self.is_valid_node(q_new, n)]\n",
    "        if len(costs) == 0:\n",
    "            return q_new\n",
    "        min_cost = min(costs)\n",
    "        if min_cost == float('inf'):\n",
    "            return q_new\n",
    "        min_idx = costs.index(min_cost)\n",
    "        q_new.parent = near_nodes[min_idx]\n",
    "        q_new.cost = min_cost\n",
    "        return q_new\n",
    "\n",
    "    def get_near_nodes(self, q_new):\n",
    "        distances = [np.sqrt((n.x - q_new.x)**2 + (n.y - q_new.y)**2) for n in self.nodes]\n",
    "        return [self.nodes[i] for i in range(len(distances)) if distances[i] <= self.neighbour_radius]\n",
    "\n",
    "    def get_cost(self, from_node, to_node):\n",
    "        return from_node.cost + np.sqrt((from_node.x - to_node.x)**2 + (from_node.y - to_node.y)**2)\n",
    "\n",
    "    def rewire(self, q_new):\n",
    "        near_nodes = self.get_near_nodes(q_new)\n",
    "        for node in near_nodes:\n",
    "            if node == q_new.parent:\n",
    "                continue\n",
    "            new_cost = self.get_cost(node, q_new)\n",
    "            if new_cost < node.cost and self.is_valid_node(node, q_new):\n",
    "                node.parent = q_new\n",
    "                node.cost = new_cost\n",
    "\n",
    "    def get_random_node(self):\n",
    "        if np.random.rand() < 0.05:\n",
    "            # print('goal node is chosen')\n",
    "            return Node(self.goal.x, self.goal.y)\n",
    "        x = np.random.uniform(0, self.field_width)\n",
    "        y = np.random.uniform(0, self.field_height)\n",
    "        return Node(x, y)\n",
    "\n",
    "    def get_nearest_node(self, node):\n",
    "        distances = [np.sqrt((n.x - node.x)**2 + (n.y - node.y)**2) for n in self.nodes]\n",
    "        return self.nodes[np.argmin(distances)]\n",
    "\n",
    "    def steer(self, from_node, to_node):\n",
    "        dist = np.sqrt((from_node.x - to_node.x)**2 + (from_node.y - to_node.y)**2)\n",
    "        if dist < self.max_dist:\n",
    "            return Node(to_node.x, to_node.y)\n",
    "        angle = np.arctan2(to_node.y - from_node.y, to_node.x - from_node.x)\n",
    "        x = from_node.x + self.max_dist * np.cos(angle)\n",
    "        y = from_node.y + self.max_dist * np.sin(angle)\n",
    "        return Node(x, y)\n",
    "\n",
    "    def is_valid_node(self, node,from_node):\n",
    "        for obs in self.obstacles:\n",
    "            if obs.contains(node):\n",
    "                return False\n",
    "            if if_intersects([from_node.x,from_node.y],[node.x,node.y],[obs.x,obs.y],obs.radius):\n",
    "                return False\n",
    "        return True\n",
    "\n",
    "    def is_goal_reached(self, node):\n",
    "        return self.goal.x == node.x and self.goal.y == node.y\n",
    "\n",
    "    def get_path(self, node):\n",
    "        path = [node]\n",
    "        while node.parent is not None:\n",
    "            node = node.parent\n",
    "            path.append(node)\n",
    "        return path[::-1]\n"
   ]
  },
  {
   "attachments": {},
   "cell_type": "markdown",
   "metadata": {},
   "source": [
    "### Initializing the environment"
   ]
  },
  {
   "attachments": {},
   "cell_type": "markdown",
   "metadata": {},
   "source": [
    "Randomly generating 'n' obstacles along with start and goal in the environment"
   ]
  },
  {
   "cell_type": "code",
   "execution_count": 21,
   "metadata": {},
   "outputs": [],
   "source": [
    "def plot_path(obstacles, path=None):\n",
    "    fig, ax = plt.subplots(figsize=(10,8))\n",
    "    for obs in obstacles:\n",
    "        circle = plt.Circle((obs.x, obs.y), obs.radius, color='r')\n",
    "        ax.add_artist(circle)\n",
    "    if path is not None:\n",
    "        xs = [node.x for node in path]\n",
    "        ys = [node.y for node in path]\n",
    "        plt.plot(xs, ys, color='g', linewidth=2)\n",
    "    ax.set_xlim(0, field_width)\n",
    "    ax.set_ylim(0, field_height)\n",
    "    plt.show()\n",
    "\n",
    "def generate_obstacles(num_obstacles, max_radius, field_width, field_height):\n",
    "    obstacles = []   \n",
    "    for i in range(num_obstacles):\n",
    "        # Generate a random position for the obstacle\n",
    "        x = np.random.uniform(0, field_width)\n",
    "        y = np.random.uniform(0, field_height)\n",
    "        # Generate a random radius for the obstacle\n",
    "        radius = np.random.uniform(0, max_radius)\n",
    "        # Add the obstacle to the list\n",
    "        obstacles.append(Obstacle(x, y, radius))\n",
    "    return obstacles\n",
    "\n",
    "def generate_start_goal(obstacles, field_width, field_height):\n",
    "    # Generate random positions for the start and goal until they do not fall into any obstacles\n",
    "    while True:\n",
    "        # Generate a random position for the start\n",
    "        start = [np.random.uniform(0, field_width/4), np.random.uniform(0, field_height/4)]  \n",
    "        # Generate a random position for the goal\n",
    "        goal = [np.random.uniform(3*field_width/4,field_width), np.random.uniform(3*field_height/4,field_height)]\n",
    "        \n",
    "        # Check if the start and goal fall into any of the obstacles\n",
    "        start_collides = any(np.sqrt((start[0] - obstacle.x)**2 + (start[1] - obstacle.y)**2) < obstacle.radius for obstacle in obstacles)\n",
    "        goal_collides = any(np.sqrt((goal[0] - obstacle.x)**2 + (goal[1] - obstacle.y)**2) < obstacle.radius for obstacle in obstacles)\n",
    "    \n",
    "        if not start_collides and not goal_collides:\n",
    "            break   \n",
    "    return start, goal\n"
   ]
  },
  {
   "attachments": {},
   "cell_type": "markdown",
   "metadata": {},
   "source": [
    "### Plot for RRT"
   ]
  },
  {
   "attachments": {},
   "cell_type": "markdown",
   "metadata": {},
   "source": [
    "User input and parameters"
   ]
  },
  {
   "cell_type": "code",
   "execution_count": 39,
   "metadata": {},
   "outputs": [
    {
     "name": "stdout",
     "output_type": "stream",
     "text": [
      "[0.1849153562948735, 0.4142040299882886] [1.5578219213424944, 1.9460206945465068]\n"
     ]
    }
   ],
   "source": [
    "field_width = 2\n",
    "field_height = 2\n",
    "number_of_obstacles = 20\n",
    "\n",
    "obstacles = generate_obstacles(number_of_obstacles, 0.1, field_width, field_height)\n",
    "start, goal = generate_start_goal(obstacles,field_width,field_height)\n",
    "\n",
    "'''\n",
    "By default obstacles are generated randomly along with the start and goal position\n",
    "Uncomment below two lines to input your own obstacle and start-goal arrangement\n",
    "(note this implementation only supports circular obstacles, obstacles of other shapes can be easily enclosed in a circle so as to incorporate them too!)\n",
    "'''\n",
    "#obstacles = [Obstacle(0.5,0.7,0.2),Obstacle(1.5,1.5,0.2)]\n",
    "#start, goal = [0.1,0.1], [1.9,1.9]\n",
    "\n",
    "print(start,goal)"
   ]
  },
  {
   "cell_type": "code",
   "execution_count": 40,
   "metadata": {},
   "outputs": [
    {
     "name": "stdout",
     "output_type": "stream",
     "text": [
      "True\n"
     ]
    },
    {
     "data": {
      "image/png": "[encoded data removed]",
      "text/plain": [
       "<Figure size 720x576 with 1 Axes>"
      ]
     },
     "metadata": {
      "needs_background": "light"
     },
     "output_type": "display_data"
    }
   ],
   "source": [
    "rrt = RRT(start, goal, obstacles, field_width, field_height)\n",
    "path = rrt.plan()\n",
    "plot_path(obstacles, path)"
   ]
  },
  {
   "attachments": {},
   "cell_type": "markdown",
   "metadata": {},
   "source": [
    "### Plot for RRT*"
   ]
  },
  {
   "cell_type": "code",
   "execution_count": 41,
   "metadata": {},
   "outputs": [
    {
     "name": "stdout",
     "output_type": "stream",
     "text": [
      "True\n"
     ]
    },
    {
     "data": {
      "image/png": "[encoded data removed]",
      "text/plain": [
       "<Figure size 720x576 with 1 Axes>"
      ]
     },
     "metadata": {
      "needs_background": "light"
     },
     "output_type": "display_data"
    }
   ],
   "source": [
    "rrt_star = RRT_STAR(start, goal, obstacles, field_width, field_height)\n",
    "path_star = rrt_star.plan()\n",
    "plot_path(obstacles, path_star)"
   ]
  },
  {
   "cell_type": "code",
   "execution_count": null,
   "metadata": {},
   "outputs": [],
   "source": []
  },
  {
   "cell_type": "code",
   "execution_count": null,
   "metadata": {},
   "outputs": [],
   "source": [
    "\n"
   ]
  }
 ],
 "metadata": {
  "kernelspec": {
   "display_name": "Python 3",
   "language": "python",
   "name": "python3"
  },
  "language_info": {
   "codemirror_mode": {
    "name": "ipython",
    "version": 3
   },
   "file_extension": ".py",
   "mimetype": "text/x-python",
   "name": "python",
   "nbconvert_exporter": "python",
   "pygments_lexer": "ipython3",
   "version": "3.6.9"
  },
  "orig_nbformat": 4
 },
 "nbformat": 4,
 "nbformat_minor": 2
}
